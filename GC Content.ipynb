{
 "cells": [
  {
   "cell_type": "markdown",
   "metadata": {},
   "source": [
    "#**GC Content**"
   ]
  },
  {
   "cell_type": "code",
   "execution_count": 6,
   "metadata": {},
   "outputs": [
    {
     "name": "stdout",
     "output_type": "stream",
     "text": [
      "Hello, what is your sequence?   ggg aaa\n",
      "Okay, what would you like to count?   g\n",
      "G Count: 3\n",
      "G Content: 0.5\n"
     ]
    }
   ],
   "source": [
    "letters = [\"B\",\"D\",\"E\",\"F\",\"H\",\"I\",\"J\",\"K\",\"L\",\"M\",\"N\",\"O\",\"P\",\"Q\",\"R\",\"S\",\"U\",\"V\",\"W\",\"X\",\"Y\",\"Z\"]\n",
    "seq = input(\"Hello, what is your sequence?   \")\n",
    "sequ = seq.upper()\n",
    "if any(elem in letters for elem in sequ):\n",
    "    print(\"I'm sorry, there are non-base letters in your sequence\")\n",
    "else:\n",
    "    import re\n",
    "    seqf = re.sub(\" \", \"\", sequ)\n",
    "    cnt = input(\"Okay, what would you like to count?   \")\n",
    "    cntu = cnt.upper()\n",
    "    if \"A\" in cntu:\n",
    "        a = seqf.count(\"A\")\n",
    "    else: \n",
    "        a = 0\n",
    "    if \"T\" in cntu:\n",
    "        t = seqf.count(\"T\")\n",
    "    else:\n",
    "        t = 0\n",
    "    if \"C\" in cntu:\n",
    "        c = seqf.count(\"C\")\n",
    "    else:\n",
    "        c = 0\n",
    "    if \"G\" in cntu:\n",
    "        g = seqf.count(\"G\")\n",
    "    else:\n",
    "        g = 0\n",
    "\n",
    "    total = a + t + c + g\n",
    "    percent = total/len(seqf)\n",
    "    print(cntu + \" Count: \" + str(total))\n",
    "    print(cntu + \" Content: \" + str(round(percent,3)))"
   ]
  },
  {
   "cell_type": "code",
   "execution_count": null,
   "metadata": {
    "collapsed": true
   },
   "outputs": [],
   "source": []
  }
 ],
 "metadata": {
  "kernelspec": {
   "display_name": "Python 3",
   "language": "python",
   "name": "python3"
  },
  "language_info": {
   "codemirror_mode": {
    "name": "ipython",
    "version": 3
   },
   "file_extension": ".py",
   "mimetype": "text/x-python",
   "name": "python",
   "nbconvert_exporter": "python",
   "pygments_lexer": "ipython3",
   "version": "3.6.1"
  }
 },
 "nbformat": 4,
 "nbformat_minor": 2
}
